{
 "cells": [
  {
   "cell_type": "code",
   "execution_count": 16,
   "metadata": {},
   "outputs": [],
   "source": [
    "import json\n",
    "import numpy as np\n",
    "import pandas as pd"
   ]
  },
  {
   "cell_type": "code",
   "execution_count": 56,
   "metadata": {},
   "outputs": [],
   "source": [
    "data_dir = './proximity_2019-06-01/'\n",
    "\n",
    "file_list = []\n",
    "\n",
    "for i in range(1, 18):\n",
    "    if i < 10:\n",
    "        filename = data_dir + 'CTSIserver{:02d}_proximity_2019-06-01.txt'.format(i)\n",
    "    else:\n",
    "        filename = data_dir + 'CTSIserver{}_proximity_2019-06-01.txt'.format(i)\n",
    "\n",
    "        \n",
    "    \n",
    "    with open(filename, 'r') as f:\n",
    "        tmp_list = []\n",
    "        for line in f:\n",
    "            record = line.strip()\n",
    "            record_json = json.loads(record)\n",
    "            data_json = record_json['data']\n",
    "\n",
    "            # Each record: timestamp, center member id, scanned member id, count, rssi, beacon\n",
    "            for m in data_json['rssi_distances'].keys():\n",
    "                tmp = np.zeros(6)\n",
    "                # 1st col: timestamp\n",
    "                tmp[0] = data_json['timestamp']\n",
    "                # 2nd col: center member id\n",
    "                tmp[1] = data_json['member_id']\n",
    "                # 3rd col: scanned member id\n",
    "                tmp[2] = int(m)\n",
    "                # 4th col: count\n",
    "                tmp[3] = data_json['rssi_distances'][m]['count']\n",
    "                # 5th col: rssi\n",
    "                tmp[4] = data_json['rssi_distances'][m]['rssi']\n",
    "                \n",
    "                # 6th col: beacon or not\n",
    "                if int(m) > 10000:\n",
    "                    tmp[5] = 1\n",
    "                else:\n",
    "                    tmp[5] = 0\n",
    "                        \n",
    "                tmp_list.append(tmp)\n",
    "    pd_list = pd.DataFrame(tmp_list, columns=['timestamp', 'center_member_id', 'scanned_member_id', 'count', 'rssi', 'beacon'], dtype=np.int32)        \n",
    "    file_list.append(pd_list)\n",
    "                "
   ]
  },
  {
   "cell_type": "code",
   "execution_count": 60,
   "metadata": {},
   "outputs": [],
   "source": [
    "for i in range(len(file_list)):\n",
    "    file_list[i].to_csv('./parsed_data/beacon{}'.format(i+1))"
   ]
  },
  {
   "cell_type": "code",
   "execution_count": 23,
   "metadata": {},
   "outputs": [],
   "source": [
    "member_metadata = pd.read_csv('Member-2019-05-28.csv', dtype=object)\n",
    "id2key = member_metadata[['key','id']]"
   ]
  },
  {
   "cell_type": "code",
   "execution_count": null,
   "metadata": {},
   "outputs": [],
   "source": []
  }
 ],
 "metadata": {
  "kernelspec": {
   "display_name": "mykernel",
   "language": "python",
   "name": "mykernel"
  },
  "language_info": {
   "codemirror_mode": {
    "name": "ipython",
    "version": 3
   },
   "file_extension": ".py",
   "mimetype": "text/x-python",
   "name": "python",
   "nbconvert_exporter": "python",
   "pygments_lexer": "ipython3",
   "version": "3.7.1"
  }
 },
 "nbformat": 4,
 "nbformat_minor": 2
}
